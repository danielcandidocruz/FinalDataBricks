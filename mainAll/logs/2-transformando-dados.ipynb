{
 "cells": [
  {
   "cell_type": "code",
   "execution_count": null,
   "id": "d3a6c984",
   "metadata": {
    "vscode": {
     "languageId": "plaintext"
    }
   },
   "outputs": [],
   "source": [
    "from pyspark.sql.functions import to_date, first, col, round\n"
   ]
  },
  {
   "cell_type": "code",
   "execution_count": null,
   "id": "fcd8bad8",
   "metadata": {
    "vscode": {
     "languageId": "plaintext"
    }
   },
   "outputs": [],
   "source": [
    "df_junto = spark.read.parquet(\"dbfs:/databricks-results/bronze/*/*/*\")\n"
   ]
  },
  {
   "cell_type": "code",
   "execution_count": null,
   "id": "4894acbe",
   "metadata": {
    "vscode": {
     "languageId": "plaintext"
    }
   },
   "outputs": [],
   "source": [
    "moedas = ['USD', 'EUR', 'GBP']\n",
    "\n",
    "df_moedas = df_junto.filter(df_junto.moeda.isin(moedas))"
   ]
  },
  {
   "cell_type": "code",
   "execution_count": null,
   "id": "0f6f6d5e",
   "metadata": {
    "vscode": {
     "languageId": "plaintext"
    }
   },
   "outputs": [],
   "source": [
    "df_moedas = df_moedas.withColumn(\"data\", to_date(\"data\"))"
   ]
  },
  {
   "cell_type": "code",
   "execution_count": null,
   "metadata": {
    "vscode": {
     "languageId": "plaintext"
    }
   },
   "outputs": [],
   "source": [
    "resultado_taxas_conversao = df_moedas.groupBy(\"data\")\\\n",
    "                                    .pivot(\"moeda\")\\\n",
    "                                    .agg(first(\"taxa\"))\\\n",
    "                                    .orderBy(\"data\", ascending=False)"
   ]
  },
  {
   "cell_type": "code",
   "execution_count": null,
   "id": "bea8de5d",
   "metadata": {
    "vscode": {
     "languageId": "plaintext"
    }
   },
   "outputs": [],
   "source": [
    "resultado_valores_reais = resultado_taxas_conversao.select(\"*\")"
   ]
  },
  {
   "cell_type": "code",
   "execution_count": null,
   "id": "1782cadb",
   "metadata": {
    "vscode": {
     "languageId": "plaintext"
    }
   },
   "outputs": [],
   "source": [
    "for moeda in moedas:\n",
    "    resultado_valores_reais = resultado_valores_reais\\\n",
    "                                .withColumn(\n",
    "                                    moeda, round(1/col(moeda), 4)  \n",
    "                                )"
   ]
  },
  {
   "cell_type": "code",
   "execution_count": null,
   "id": "e954f610",
   "metadata": {
    "vscode": {
     "languageId": "plaintext"
    }
   },
   "outputs": [],
   "source": [
    "resultado_taxas_conversao = resultado_taxas_conversao.coalesce(1)\n",
    "resultado_valores_reais = resultado_valores_reais.coalesce(1)"
   ]
  },
  {
   "cell_type": "code",
   "execution_count": null,
   "id": "a8c0a994",
   "metadata": {
    "vscode": {
     "languageId": "plaintext"
    }
   },
   "outputs": [],
   "source": [
    "# Salvando arquivo de taxas\n",
    "\n",
    "resultado_taxas_conversao.write\\\n",
    "  .mode(\"overwrite\")\\\n",
    "  .format(\"csv\")\\\n",
    "  .option(\"header\", \"true\")\\\n",
    "  .save(\"dbfs:/databricks-results/prata/taxas_conversao\")\n",
    "\n",
    "\n",
    "resultado_valores_reais.write\\\n",
    "  .mode(\"overwrite\")\\\n",
    "  .format(\"csv\")\\\n",
    "  .option(\"header\", \"true\")\\\n",
    "  .save(\"dbfs:/databricks-results/prata/valores_reais\")"
   ]
  },
  {
   "cell_type": "code",
   "execution_count": null,
   "id": "93bfc830",
   "metadata": {
    "vscode": {
     "languageId": "plaintext"
    }
   },
   "outputs": [],
   "source": [
    "display(dbutils.fs.ls(\"dbfs:/databricks-results/bronze/2023/06/02\"))"
   ]
  }
 ],
 "metadata": {
  "language_info": {
   "name": "python"
  }
 },
 "nbformat": 4,
 "nbformat_minor": 5
}
